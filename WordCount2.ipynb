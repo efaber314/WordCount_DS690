{
  "nbformat": 4,
  "nbformat_minor": 0,
  "metadata": {
    "colab": {
      "name": "WordCount2.ipynb",
      "provenance": [],
      "collapsed_sections": [],
      "authorship_tag": "ABX9TyNsgN0TmGn27EhvsHAjL42P",
      "include_colab_link": true
    },
    "kernelspec": {
      "name": "python3",
      "display_name": "Python 3"
    }
  },
  "cells": [
    {
      "cell_type": "markdown",
      "metadata": {
        "id": "view-in-github",
        "colab_type": "text"
      },
      "source": [
        "<a href=\"https://colab.research.google.com/github/efaber314/WordCount_DS690/blob/master/WordCount2.ipynb\" target=\"_parent\"><img src=\"https://colab.research.google.com/assets/colab-badge.svg\" alt=\"Open In Colab\"/></a>"
      ]
    },
    {
      "cell_type": "code",
      "metadata": {
        "id": "AahGvFOSJGa0",
        "colab_type": "code",
        "colab": {}
      },
      "source": [
        ""
      ],
      "execution_count": 0,
      "outputs": []
    },
    {
      "cell_type": "markdown",
      "metadata": {
        "id": "JUfrB8miKGVf",
        "colab_type": "text"
      },
      "source": [
        "#Simple Word Count using Python in essay format\n",
        "\n",
        "We use an essay as input"
      ]
    },
    {
      "cell_type": "code",
      "metadata": {
        "id": "VTuEtycNKMSg",
        "colab_type": "code",
        "colab": {}
      },
      "source": [
        "import os\n",
        "os.listdir()\n",
        "from wordcloud import WordCloud, STOPWORDS\n",
        "import operator"
      ],
      "execution_count": 0,
      "outputs": []
    },
    {
      "cell_type": "code",
      "metadata": {
        "id": "UwG_zVWNKj3g",
        "colab_type": "code",
        "outputId": "8a4f8dae-20ca-45c7-ece4-0b29fcc0bfaf",
        "colab": {
          "base_uri": "https://localhost:8080/",
          "height": 74
        }
      },
      "source": [
        "with open(\"against-interpretation.txt\", encoding = 'utf-8', errors = 'ignore') as file:\n",
        "  lines = file.readlines()\n",
        "\n",
        "print(lines[:10])\n",
        "len(lines)"
      ],
      "execution_count": 38,
      "outputs": [
        {
          "output_type": "stream",
          "text": [
            "['Content is the glimpse of something, an\\n', 'encounter like a flash. Its very tinyvery\\n', 'tiny, content.\\n', 'WILLIAM DE KOONING, in an\\n', 'interview\\n', 'It is only shallow people who do not judge\\n', 'by appearances. The mystery of the world is\\n', 'the visible, not the invisible.\\n', 'OSCAR WILDE, in a letter\\n', 'Against Interpretation\\n']\n"
          ],
          "name": "stdout"
        },
        {
          "output_type": "execute_result",
          "data": {
            "text/plain": [
              "372"
            ]
          },
          "metadata": {
            "tags": []
          },
          "execution_count": 38
        }
      ]
    },
    {
      "cell_type": "code",
      "metadata": {
        "id": "7OGuc1EtK36e",
        "colab_type": "code",
        "colab": {
          "base_uri": "https://localhost:8080/",
          "height": 55
        },
        "outputId": "9a81ecd6-046b-4fe5-e8ad-e3d734e58086"
      },
      "source": [
        "susanWords = []\n",
        "\n",
        "\n",
        "for line in lines:\n",
        "  temp = line.split(\" \")\n",
        "  susanWords.append(temp)\n",
        "print(susanWords[:5])"
      ],
      "execution_count": 39,
      "outputs": [
        {
          "output_type": "stream",
          "text": [
            "[['Content', 'is', 'the', 'glimpse', 'of', 'something,', 'an\\n'], ['encounter', 'like', 'a', 'flash.', 'Its', 'very', 'tinyvery\\n'], ['tiny,', 'content.\\n'], ['WILLIAM', 'DE', 'KOONING,', 'in', 'an\\n'], ['interview\\n']]\n"
          ],
          "name": "stdout"
        }
      ]
    },
    {
      "cell_type": "code",
      "metadata": {
        "id": "NxFB9M4ZNyex",
        "colab_type": "code",
        "colab": {
          "base_uri": "https://localhost:8080/",
          "height": 35
        },
        "outputId": "25cbe3d3-c837-4024-dd01-ac7b59f5d5e6"
      },
      "source": [
        "susanWords2 = []\n",
        "\n",
        "for x in susanWords:\n",
        "  for word in x:\n",
        "    if word in STOPWORDS:\n",
        "      continue\n",
        "    else:\n",
        "      susanWords2.append(word.lower())\n",
        "\n",
        "print(len(susanWords2))"
      ],
      "execution_count": 41,
      "outputs": [
        {
          "output_type": "stream",
          "text": [
            "2465\n"
          ],
          "name": "stdout"
        }
      ]
    },
    {
      "cell_type": "code",
      "metadata": {
        "id": "GjD8tI88PW-R",
        "colab_type": "code",
        "colab": {
          "base_uri": "https://localhost:8080/",
          "height": 201
        },
        "outputId": "3b17aa33-6f53-4525-9d01-75db08ec0945"
      },
      "source": [
        "wordCountDictionary = {}\n",
        "\n",
        "for word in susanWords2:\n",
        "  if word in wordCountDictionary.keys():\n",
        "    wordCountDictionary[word] += 1\n",
        "  else:\n",
        "    wordCountDictionary[word] =1\n",
        "\n",
        "wordCountDictionary.items()\n",
        "list(wordCountDictionary.items())[:10]"
      ],
      "execution_count": 42,
      "outputs": [
        {
          "output_type": "execute_result",
          "data": {
            "text/plain": [
              "[('content', 20),\n",
              " ('glimpse', 1),\n",
              " ('something,', 3),\n",
              " ('an\\n', 7),\n",
              " ('encounter', 1),\n",
              " ('flash.', 1),\n",
              " ('its', 1),\n",
              " ('tinyvery\\n', 1),\n",
              " ('tiny,', 1),\n",
              " ('content.\\n', 1)]"
            ]
          },
          "metadata": {
            "tags": []
          },
          "execution_count": 42
        }
      ]
    },
    {
      "cell_type": "code",
      "metadata": {
        "id": "aNunnPEsRB5C",
        "colab_type": "code",
        "colab": {
          "base_uri": "https://localhost:8080/",
          "height": 201
        },
        "outputId": "5b1e1af5-f36c-4fc7-bc29-4afacf5946d6"
      },
      "source": [
        "\n",
        "sortedDictionary = sorted(wordCountDictionary.items(), key = operator.itemgetter(1))\n",
        "sortedDictionary[-10:]"
      ],
      "execution_count": 45,
      "outputs": [
        {
          "output_type": "execute_result",
          "data": {
            "text/plain": [
              "[('a\\n', 14),\n",
              " ('works', 14),\n",
              " ('the\\n', 15),\n",
              " ('it', 16),\n",
              " ('of\\n', 16),\n",
              " ('content', 20),\n",
              " ('work', 21),\n",
              " ('interpretation', 28),\n",
              " ('the', 33),\n",
              " ('art', 51)]"
            ]
          },
          "metadata": {
            "tags": []
          },
          "execution_count": 45
        }
      ]
    },
    {
      "cell_type": "code",
      "metadata": {
        "id": "E8UR3Ep8T0NY",
        "colab_type": "code",
        "colab": {}
      },
      "source": [
        ""
      ],
      "execution_count": 0,
      "outputs": []
    }
  ]
}