{
  "nbformat": 4,
  "nbformat_minor": 0,
  "metadata": {
    "colab": {
      "name": "WordCount2.ipynb",
      "provenance": [],
      "collapsed_sections": [],
      "authorship_tag": "ABX9TyM0oZJW5w8Gv+eoqBssb9ae",
      "include_colab_link": true
    },
    "kernelspec": {
      "name": "python3",
      "display_name": "Python 3"
    }
  },
  "cells": [
    {
      "cell_type": "markdown",
      "metadata": {
        "id": "view-in-github",
        "colab_type": "text"
      },
      "source": [
        "<a href=\"https://colab.research.google.com/github/efaber314/WordCount_DS690/blob/master/WordCount2.ipynb\" target=\"_parent\"><img src=\"https://colab.research.google.com/assets/colab-badge.svg\" alt=\"Open In Colab\"/></a>"
      ]
    },
    {
      "cell_type": "code",
      "metadata": {
        "id": "AahGvFOSJGa0",
        "colab_type": "code",
        "colab": {}
      },
      "source": [
        ""
      ],
      "execution_count": 0,
      "outputs": []
    },
    {
      "cell_type": "markdown",
      "metadata": {
        "id": "JUfrB8miKGVf",
        "colab_type": "text"
      },
      "source": [
        "#Simple Word Count using Python in essay format\n",
        "\n",
        "We use an essay as input"
      ]
    },
    {
      "cell_type": "code",
      "metadata": {
        "id": "VTuEtycNKMSg",
        "colab_type": "code",
        "colab": {
          "base_uri": "https://localhost:8080/",
          "height": 35
        },
        "outputId": "ddecf605-a67e-4e22-a537-b9ef75dec4b3"
      },
      "source": [
        "import os\n",
        "os.listdir()"
      ],
      "execution_count": 13,
      "outputs": [
        {
          "output_type": "execute_result",
          "data": {
            "text/plain": [
              "['.config', 'against-interpretation.txt', 'sample_data']"
            ]
          },
          "metadata": {
            "tags": []
          },
          "execution_count": 13
        }
      ]
    },
    {
      "cell_type": "code",
      "metadata": {
        "id": "UwG_zVWNKj3g",
        "colab_type": "code",
        "outputId": "9998c3c2-84c9-4669-ec28-29b8b4348788",
        "colab": {
          "base_uri": "https://localhost:8080/",
          "height": 74
        }
      },
      "source": [
        "with open(\"against-interpretation.txt\", encoding = 'utf-8', errors = 'ignore') as file:\n",
        "  lines = file.readlines()\n",
        "\n",
        "print(lines[:10])\n",
        "len(lines)"
      ],
      "execution_count": 12,
      "outputs": [
        {
          "output_type": "stream",
          "text": [
            "['Content is the glimpse of something, an\\n', 'encounter like a flash. Its very tinyvery\\n', 'tiny, content.\\n', 'WILLIAM DE KOONING, in an\\n', 'interview\\n', 'It is only shallow people who do not judge\\n', 'by appearances. The mystery of the world is\\n', 'the visible, not the invisible.\\n', 'OSCAR WILDE, in a letter\\n', 'Against Interpretation\\n']\n"
          ],
          "name": "stdout"
        },
        {
          "output_type": "execute_result",
          "data": {
            "text/plain": [
              "372"
            ]
          },
          "metadata": {
            "tags": []
          },
          "execution_count": 12
        }
      ]
    },
    {
      "cell_type": "code",
      "metadata": {
        "id": "7OGuc1EtK36e",
        "colab_type": "code",
        "colab": {
          "base_uri": "https://localhost:8080/",
          "height": 55
        },
        "outputId": "d7e2f036-cabb-47b0-f86f-d245ab96c2c8"
      },
      "source": [
        "susanWords = []\n",
        "\n",
        "\n",
        "for line in lines:\n",
        "  temp = line.split(\" \")\n",
        "  susanWords.append(temp)\n",
        "print(susanWords[:5])"
      ],
      "execution_count": 17,
      "outputs": [
        {
          "output_type": "stream",
          "text": [
            "[['Content', 'is', 'the', 'glimpse', 'of', 'something,', 'an\\n'], ['encounter', 'like', 'a', 'flash.', 'Its', 'very', 'tinyvery\\n'], ['tiny,', 'content.\\n'], ['WILLIAM', 'DE', 'KOONING,', 'in', 'an\\n'], ['interview\\n']]\n"
          ],
          "name": "stdout"
        }
      ]
    },
    {
      "cell_type": "code",
      "metadata": {
        "id": "NxFB9M4ZNyex",
        "colab_type": "code",
        "colab": {
          "base_uri": "https://localhost:8080/",
          "height": 55
        },
        "outputId": "acfed944-0be3-4a9c-e6fa-223f03025a13"
      },
      "source": [
        "susanWords2 = []\n",
        "\n",
        "for x in susanWords:\n",
        "  for word in x:\n",
        "    susanWords2.append(word.lower())\n",
        "\n",
        "print(susanWords2[:20])"
      ],
      "execution_count": 21,
      "outputs": [
        {
          "output_type": "stream",
          "text": [
            "['content', 'is', 'the', 'glimpse', 'of', 'something,', 'an\\n', 'encounter', 'like', 'a', 'flash.', 'its', 'very', 'tinyvery\\n', 'tiny,', 'content.\\n', 'william', 'de', 'kooning,', 'in']\n"
          ],
          "name": "stdout"
        }
      ]
    },
    {
      "cell_type": "code",
      "metadata": {
        "id": "GjD8tI88PW-R",
        "colab_type": "code",
        "colab": {
          "base_uri": "https://localhost:8080/",
          "height": 201
        },
        "outputId": "2f01aaef-9603-414c-ce2d-953b04e447ac"
      },
      "source": [
        "wordCountDictionary = {}\n",
        "\n",
        "for word in susanWords2:\n",
        "  if word in wordCountDictionary.keys():\n",
        "    wordCountDictionary[word] += 1\n",
        "  else:\n",
        "    wordCountDictionary[word] =1\n",
        "\n",
        "wordCountDictionary.items()\n",
        "list(wordCountDictionary.items())[:10]"
      ],
      "execution_count": 24,
      "outputs": [
        {
          "output_type": "execute_result",
          "data": {
            "text/plain": [
              "[('content', 20),\n",
              " ('is', 113),\n",
              " ('the', 267),\n",
              " ('glimpse', 1),\n",
              " ('of', 227),\n",
              " ('something,', 3),\n",
              " ('an\\n', 7),\n",
              " ('encounter', 1),\n",
              " ('like', 8),\n",
              " ('a', 83)]"
            ]
          },
          "metadata": {
            "tags": []
          },
          "execution_count": 24
        }
      ]
    },
    {
      "cell_type": "code",
      "metadata": {
        "id": "aNunnPEsRB5C",
        "colab_type": "code",
        "colab": {}
      },
      "source": [
        ""
      ],
      "execution_count": 0,
      "outputs": []
    }
  ]
}