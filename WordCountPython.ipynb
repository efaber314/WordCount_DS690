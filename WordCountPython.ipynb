{
  "nbformat": 4,
  "nbformat_minor": 0,
  "metadata": {
    "colab": {
      "name": "WordCountPython.ipynb",
      "provenance": [],
      "collapsed_sections": [],
      "authorship_tag": "ABX9TyNCdoBxnjVVSj3PLZifiUTh",
      "include_colab_link": true
    },
    "kernelspec": {
      "name": "python3",
      "display_name": "Python 3"
    }
  },
  "cells": [
    {
      "cell_type": "markdown",
      "metadata": {
        "id": "view-in-github",
        "colab_type": "text"
      },
      "source": [
        "<a href=\"https://colab.research.google.com/github/efaber314/WordCount_DS690/blob/master/WordCountPython.ipynb\" target=\"_parent\"><img src=\"https://colab.research.google.com/assets/colab-badge.svg\" alt=\"Open In Colab\"/></a>"
      ]
    },
    {
      "cell_type": "code",
      "metadata": {
        "id": "8nAxfwpC3diJ",
        "colab_type": "code",
        "colab": {}
      },
      "source": [
        ""
      ],
      "execution_count": 0,
      "outputs": []
    },
    {
      "cell_type": "markdown",
      "metadata": {
        "id": "oLflSIc75x6C",
        "colab_type": "text"
      },
      "source": [
        "#Simple word count using Python"
      ]
    },
    {
      "cell_type": "code",
      "metadata": {
        "id": "kwp_Qy4N51F2",
        "colab_type": "code",
        "colab": {
          "base_uri": "https://localhost:8080/",
          "height": 35
        },
        "outputId": "98847768-c537-4b0c-8979-041c9e8ecdaa"
      },
      "source": [
        "hamlet = [\"To be or\", \"not to be\"]\n",
        "words = []\n",
        "\n",
        "for line in hamlet:\n",
        "  temp = line.split(\" \")\n",
        "  words.append(temp)\n",
        "print(words)"
      ],
      "execution_count": 23,
      "outputs": [
        {
          "output_type": "stream",
          "text": [
            "[['To', 'be', 'or'], ['not', 'to', 'be']]\n"
          ],
          "name": "stdout"
        }
      ]
    },
    {
      "cell_type": "code",
      "metadata": {
        "id": "R-UTHR9g7FO3",
        "colab_type": "code",
        "colab": {
          "base_uri": "https://localhost:8080/",
          "height": 35
        },
        "outputId": "283c59ff-d6be-4826-9655-6d92187420d0"
      },
      "source": [
        "words2 = []\n",
        "for x in words:\n",
        "  for word in x:\n",
        "    words2.append(word.lower())\n",
        "\n",
        "print(words2)"
      ],
      "execution_count": 24,
      "outputs": [
        {
          "output_type": "stream",
          "text": [
            "['to', 'be', 'or', 'not', 'to', 'be']\n"
          ],
          "name": "stdout"
        }
      ]
    },
    {
      "cell_type": "code",
      "metadata": {
        "id": "aylZ3_-u9vyx",
        "colab_type": "code",
        "colab": {
          "base_uri": "https://localhost:8080/",
          "height": 35
        },
        "outputId": "f2ad9c82-fd72-44dd-d115-9d9238b4a7d8"
      },
      "source": [
        "wordCountDictionary = {}\n",
        "\n",
        "for word in words2:\n",
        "  if word in wordCountDictionary.keys():\n",
        "    #increase value by 1\n",
        "    wordCountDictionary[word] += 1\n",
        "  else:\n",
        "    #add a new key value pair\n",
        "    wordCountDictionary[word] = 1\n",
        "\n",
        "wordCountDictionary"
      ],
      "execution_count": 25,
      "outputs": [
        {
          "output_type": "execute_result",
          "data": {
            "text/plain": [
              "{'be': 2, 'not': 1, 'or': 1, 'to': 2}"
            ]
          },
          "metadata": {
            "tags": []
          },
          "execution_count": 25
        }
      ]
    },
    {
      "cell_type": "code",
      "metadata": {
        "id": "mZFMEEES8HSn",
        "colab_type": "code",
        "colab": {}
      },
      "source": [
        "wordCount = { \"to\": 2,\n",
        "              \"be\": 2,\n",
        "              \"or\": 1,\n",
        "              \"not\": 1\n",
        "}\n",
        "wordCount.keys()"
      ],
      "execution_count": 0,
      "outputs": []
    }
  ]
}